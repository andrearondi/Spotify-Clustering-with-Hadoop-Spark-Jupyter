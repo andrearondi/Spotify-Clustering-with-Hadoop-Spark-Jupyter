{
 "cells": [
  {
   "cell_type": "code",
   "execution_count": 3,
   "id": "a17c7472-88a9-401b-857b-2e9b4bcbe7f9",
   "metadata": {},
   "outputs": [],
   "source": [
    "from pyspark.sql import SparkSession, functions as F, types as T\n",
    "\n",
    "spark = SparkSession.builder \\\n",
    "    .appName(\"SpotifyClustering\") \\\n",
    "    .config(\"spark.hadoop.fs.defaultFS\", \"hdfs://namenode:9000\") \\\n",
    "    .getOrCreate()\n"
   ]
  },
  {
   "cell_type": "markdown",
   "id": "67a5fc3f-f2ac-4051-a0c2-c37cbe5cbb90",
   "metadata": {},
   "source": []
  },
  {
   "cell_type": "markdown",
   "id": "5c582de1-55cf-459d-b5ef-e4f105168f2a",
   "metadata": {},
   "source": [
    "Let's define a function for checking missing values, no matter the type"
   ]
  },
  {
   "cell_type": "code",
   "execution_count": 4,
   "id": "e561c200-31e9-4d08-bcde-2524a2a24c7e",
   "metadata": {},
   "outputs": [],
   "source": [
    "def is_missing(colname, dtype):\n",
    "    c = F.col(colname)\n",
    "    dt = dtype.lower()\n",
    "\n",
    "    if dt in (\"double\", \"float\"):\n",
    "        # null OR NaN\n",
    "        return c.isNull() | F.isnan(c)\n",
    "    elif dt in (\"int\", \"integer\", \"bigint\", \"long\", \"short\"):\n",
    "        return c.isNull()\n",
    "    elif dt == \"boolean\":\n",
    "        # booleans can't be NaN or empty-string; only null is \"missing\"\n",
    "        return c.isNull()\n",
    "    elif \"string\" in dt:\n",
    "        # null OR empty/whitespace-only string\n",
    "        return c.isNull() | (F.trim(c) == \"\")\n",
    "    else:\n",
    "        # fallback: treat only null as missing\n",
    "        return c.isNull()"
   ]
  },
  {
   "cell_type": "markdown",
   "id": "aa8c4634-ec01-4dc6-a0d1-dc57926f61fe",
   "metadata": {},
   "source": [
    "Now let's run the inspection again"
   ]
  },
  {
   "cell_type": "code",
   "execution_count": 5,
   "id": "8ea9c2a1-1d07-4d2a-8917-8ac973eff73a",
   "metadata": {},
   "outputs": [
    {
     "name": "stdout",
     "output_type": "stream",
     "text": [
      "['_c0', 'track_id', 'artists', 'album_name', 'track_name', 'popularity', 'duration_ms', 'explicit', 'danceability', 'energy', 'key', 'loudness', 'mode', 'speechiness', 'acousticness', 'instrumentalness', 'liveness', 'valence', 'tempo', 'time_signature', 'track_genre']\n"
     ]
    }
   ],
   "source": [
    "path = \"hdfs://namenode:9000/spotify/dataset.csv\"\n",
    "\n",
    "# 1) Read with header, no schema (but robust CSV options)\n",
    "df0 = (spark.read\n",
    "       .option(\"header\", True)\n",
    "       .option(\"multiLine\", True)\n",
    "       .option(\"quote\", '\"')\n",
    "       .option(\"escape\", '\"')\n",
    "       .option(\"mode\", \"PERMISSIVE\")\n",
    "       .csv(path))\n",
    "\n",
    "print(df0.columns)      \n",
    "#df0.show(3, truncate=False)\n",
    "\n",
    "# 2) Cast columns by NAME (not by position)\n",
    "cast_to = {\n",
    "    \"popularity\": \"int\",\n",
    "    \"duration_ms\": \"int\",\n",
    "    \"explicit\": \"boolean\",   \n",
    "    \"danceability\": \"double\",\n",
    "    \"energy\": \"double\",\n",
    "    \"key\": \"int\",\n",
    "    \"loudness\": \"double\",\n",
    "    \"mode\": \"int\",\n",
    "    \"speechiness\": \"double\",\n",
    "    \"acousticness\": \"double\",\n",
    "    \"instrumentalness\": \"double\",\n",
    "    \"liveness\": \"double\",\n",
    "    \"valence\": \"double\",\n",
    "    \"tempo\": \"double\",\n",
    "    \"time_signature\": \"int\",\n",
    "    \"track_genre\": \"string\",\n",
    "}\n",
    "\n",
    "df = df0.select(*[\n",
    "    F.col(c).cast(cast_to[c]).alias(c) if c in cast_to else F.col(c)\n",
    "    for c in df0.columns\n",
    "])\n",
    "\n"
   ]
  },
  {
   "cell_type": "code",
   "execution_count": 6,
   "id": "74df2abf-d64b-4a47-9c13-5fd7d079b610",
   "metadata": {},
   "outputs": [
    {
     "name": "stdout",
     "output_type": "stream",
     "text": [
      "+-------+------------------+------------------+-------------------+------------------+\n",
      "|summary|popularity        |duration_ms       |danceability       |energy            |\n",
      "+-------+------------------+------------------+-------------------+------------------+\n",
      "|count  |114000            |114000            |114000             |114000            |\n",
      "|mean   |33.2385350877193  |228029.15311403509|0.5668000657894607 |0.6413827583964953|\n",
      "|stddev |22.305078493372324|107297.71264491338|0.17354217360214574|0.251529068802541 |\n",
      "|min    |0                 |0                 |0.0                |0.0               |\n",
      "|25%    |17                |174062            |0.456              |0.472             |\n",
      "|50%    |35                |212903            |0.58               |0.684             |\n",
      "|75%    |50                |261500            |0.695              |0.854             |\n",
      "|max    |100               |5237295           |0.985              |1.0               |\n",
      "+-------+------------------+------------------+-------------------+------------------+\n",
      "\n",
      "+-------+------------------+------------------+-------------------+-------------------+\n",
      "|summary|key               |loudness          |mode               |speechiness        |\n",
      "+-------+------------------+------------------+-------------------+-------------------+\n",
      "|count  |114000            |114000            |114000             |114000             |\n",
      "|mean   |5.309140350877193 |-8.258960368421159|0.6375526315789474 |0.08465211228070163|\n",
      "|stddev |3.5599871245365424|5.029336645041613 |0.48070916422995186|0.10573236443651257|\n",
      "|min    |0                 |-49.531           |0                  |0.0                |\n",
      "|25%    |2                 |-10.013           |0                  |0.0359             |\n",
      "|50%    |5                 |-7.004            |1                  |0.0489             |\n",
      "|75%    |8                 |-5.003            |1                  |0.0845             |\n",
      "|max    |11                |4.532             |1                  |0.965              |\n",
      "+-------+------------------+------------------+-------------------+-------------------+\n",
      "\n",
      "+-------+------------------+-------------------+-------------------+------------------+------------------+------------------+\n",
      "|summary|acousticness      |instrumentalness   |liveness           |valence           |tempo             |time_signature    |\n",
      "+-------+------------------+-------------------+-------------------+------------------+------------------+------------------+\n",
      "|count  |114000            |114000             |114000             |114000            |114000            |114000            |\n",
      "|mean   |0.3149100624799954|0.15604958922122655|0.21355283605263073|0.4740682309736918|122.14783728947668|3.9040350877192984|\n",
      "|stddev |0.3325227023059714|0.30955484838546804|0.19037769897483126|0.2592610643835181|29.97819692007598 |0.4326208483475806|\n",
      "|min    |0.0               |0.0                |0.0                |0.0               |0.0               |0                 |\n",
      "|25%    |0.0169            |0.0                |0.098              |0.26              |99.213            |4                 |\n",
      "|50%    |0.169             |4.16E-5            |0.132              |0.464             |122.017           |4                 |\n",
      "|75%    |0.597             |0.049              |0.273              |0.683             |140.071           |4                 |\n",
      "|max    |0.996             |1.0                |1.0                |0.995             |243.372           |5                 |\n",
      "+-------+------------------+-------------------+-------------------+------------------+------------------+------------------+\n",
      "\n"
     ]
    }
   ],
   "source": [
    "row_count = df.count()\n",
    "\n",
    "# Numeric summary (exclude boolean or cast it to int first)\n",
    "num_types = {\"double\",\"float\",\"int\",\"integer\",\"bigint\",\"long\",\"short\"}\n",
    "num_cols  = [c for c,t in df.dtypes if t.lower() in num_types]\n",
    "df.select(*[c for c in [\"popularity\",\"duration_ms\",\"danceability\",\"energy\"] if c in num_cols]) \\\n",
    "  .summary(\"count\",\"mean\",\"stddev\",\"min\",\"25%\",\"50%\",\"75%\",\"max\").show(truncate=False)\n",
    "\n",
    "df.select(*[c for c in [\"key\",\"loudness\",\"mode\",\"speechiness\"] if c in num_cols]) \\\n",
    "  .summary(\"count\",\"mean\",\"stddev\",\"min\",\"25%\",\"50%\",\"75%\",\"max\").show(truncate=False)\n",
    "\n",
    "df.select(*[c for c in [\"acousticness\",\"instrumentalness\",\"liveness\",\"valence\", \"tempo\", \"time_signature\"] if c in num_cols]) \\\n",
    "  .summary(\"count\",\"mean\",\"stddev\",\"min\",\"25%\",\"50%\",\"75%\",\"max\").show(truncate=False)\n"
   ]
  },
  {
   "cell_type": "code",
   "execution_count": null,
   "id": "cd8c17b3-831b-492c-ac5b-c0d5335853c3",
   "metadata": {},
   "outputs": [],
   "source": []
  },
  {
   "cell_type": "code",
   "execution_count": 7,
   "id": "5bb622d1-4ea9-44fe-8da3-5e79cb0dd2b2",
   "metadata": {},
   "outputs": [
    {
     "name": "stdout",
     "output_type": "stream",
     "text": [
      "+---+-------+----------+----------+-----------+\n",
      "|_c0|artists|album_name|track_name|track_genre|\n",
      "+---+-------+----------+----------+-----------+\n",
      "|  0|      1|         1|         1|          0|\n",
      "+---+-------+----------+----------+-----------+\n",
      "\n",
      "+----------+-----------+------------+------+\n",
      "|popularity|duration_ms|danceability|energy|\n",
      "+----------+-----------+------------+------+\n",
      "|         0|          0|           0|     0|\n",
      "+----------+-----------+------------+------+\n",
      "\n",
      "+---+--------+----+-----------+\n",
      "|key|loudness|mode|speechiness|\n",
      "+---+--------+----+-----------+\n",
      "|  0|       0|   0|          0|\n",
      "+---+--------+----+-----------+\n",
      "\n",
      "+------------+----------------+--------+-------+-----+--------------+\n",
      "|acousticness|instrumentalness|liveness|valence|tempo|time_signature|\n",
      "+------------+----------------+--------+-------+-----+--------------+\n",
      "|           0|               0|       0|      0|    0|             0|\n",
      "+------------+----------------+--------+-------+-----+--------------+\n",
      "\n"
     ]
    }
   ],
   "source": [
    "df_missing=df.select(\n",
    "    *[ F.count(F.when(\n",
    "        (F.col(c).isNull() | (F.trim(F.col(c)) == \"\")) if t==\"string\"\n",
    "        else (F.col(c).isNull() | F.isnan(c)) if t in (\"double\",\"float\")\n",
    "        else F.col(c).isNull()\n",
    "    , 1)).alias(c) for c,t in df.dtypes ]\n",
    ")\n",
    "\n",
    "df1 = df_missing.select(*([\"_c0\",\"artists\", \"album_name\", \"track_name\",\"track_genre\"]))\n",
    "df2 = df_missing.select(*([\"popularity\",\"duration_ms\",\"danceability\",\"energy\"]))\n",
    "df3 = df_missing.select(*([\"key\",\"loudness\",\"mode\",\"speechiness\"]))\n",
    "df4 = df_missing.select(*([\"acousticness\",\"instrumentalness\",\"liveness\",\"valence\", \"tempo\", \"time_signature\"]))\n",
    "\n",
    "df1.show()\n",
    "df2.show()\n",
    "df3.show()\n",
    "df4.show()"
   ]
  },
  {
   "cell_type": "code",
   "execution_count": 8,
   "id": "ca5c84ba-da00-4df7-a401-44fddc78f182",
   "metadata": {},
   "outputs": [],
   "source": [
    "# i checked and the slowest tempo is like 10-30bpm so i will remove rows with tempo value under that threshold\n",
    "#similarly i will remove songs that last less than 30 seconds (they are usually skits)\n",
    "#i will drop the few null rows\n",
    "#to make sure that the boolean \"explicit\" column can be used, i will cast it to int 0/1\n"
   ]
  },
  {
   "cell_type": "code",
   "execution_count": 9,
   "id": "0bd1e2d8-00ab-4ffc-a18d-f46125c4bfc4",
   "metadata": {},
   "outputs": [],
   "source": [
    "#then i will check highly correlated columns to perform feature selection"
   ]
  },
  {
   "cell_type": "code",
   "execution_count": 10,
   "id": "5f47de8f-4bd0-4ab8-9929-20579088c329",
   "metadata": {},
   "outputs": [
    {
     "name": "stdout",
     "output_type": "stream",
     "text": [
      "+---+--------------------+--------------------+----------------+----------------+----------+-----------+--------+------------+------+---+--------+----+-----------+------------+----------------+--------+-------+------+--------------+-----------+\n",
      "|_c0|            track_id|             artists|      album_name|      track_name|popularity|duration_ms|explicit|danceability|energy|key|loudness|mode|speechiness|acousticness|instrumentalness|liveness|valence| tempo|time_signature|track_genre|\n",
      "+---+--------------------+--------------------+----------------+----------------+----------+-----------+--------+------------+------+---+--------+----+-----------+------------+----------------+--------+-------+------+--------------+-----------+\n",
      "|  0|5SuOikwiRyPMVoIQD...|         Gen Hoshino|          Comedy|          Comedy|        73|     230666|   false|       0.676| 0.461|  1|  -6.746|   0|      0.143|      0.0322|         1.01E-6|   0.358|  0.715|87.917|             4|   acoustic|\n",
      "|  1|4qPNDBW1i3p13qLCt...|        Ben Woodward|Ghost (Acoustic)|Ghost - Acoustic|        55|     149610|   false|        0.42| 0.166|  1| -17.235|   1|     0.0763|       0.924|         5.56E-6|   0.101|  0.267|77.489|             4|   acoustic|\n",
      "|  2|1iJBSr7s7jYXzM8EG...|Ingrid Michaelson...|  To Begin Again|  To Begin Again|        57|     210826|   false|       0.438| 0.359|  0|  -9.734|   1|     0.0557|        0.21|             0.0|   0.117|   0.12|76.332|             4|   acoustic|\n",
      "+---+--------------------+--------------------+----------------+----------------+----------+-----------+--------+------------+------+---+--------+----+-----------+------------+----------------+--------+-------+------+--------------+-----------+\n",
      "only showing top 3 rows\n",
      "\n"
     ]
    }
   ],
   "source": [
    "df.show(3)"
   ]
  },
  {
   "cell_type": "code",
   "execution_count": 11,
   "id": "428964c2-26d2-4dc8-b82f-763943174478",
   "metadata": {},
   "outputs": [
    {
     "name": "stdout",
     "output_type": "stream",
     "text": [
      "['_c0', 'track_id', 'artists', 'album_name', 'track_name', 'popularity', 'duration_ms', 'explicit', 'danceability', 'energy', 'key', 'loudness', 'mode', 'speechiness', 'acousticness', 'instrumentalness', 'liveness', 'valence', 'tempo', 'time_signature', 'track_genre']\n",
      "['track_id', 'artists', 'album_name', 'track_name', 'popularity', 'duration_ms', 'explicit', 'danceability', 'energy', 'key', 'loudness', 'mode', 'speechiness', 'acousticness', 'instrumentalness', 'liveness', 'valence', 'tempo', 'time_signature', 'track_genre']\n"
     ]
    }
   ],
   "source": [
    "#dropping _c0 (i dont think we need it) \n",
    "print(df.columns)\n",
    "\n",
    "if \"_c0\" in df.columns:\n",
    "    df = df.drop(\"_c0\")\n",
    "    \n",
    "print(df.columns)"
   ]
  },
  {
   "cell_type": "code",
   "execution_count": 12,
   "id": "ffc91268-59fd-407f-8c8b-961dff674ae8",
   "metadata": {},
   "outputs": [
    {
     "name": "stdout",
     "output_type": "stream",
     "text": [
      "[('track_id', 'string'), ('artists', 'string'), ('album_name', 'string'), ('track_name', 'string'), ('popularity', 'int'), ('duration_ms', 'int'), ('explicit', 'boolean'), ('danceability', 'double'), ('energy', 'double'), ('key', 'int'), ('loudness', 'double'), ('mode', 'int'), ('speechiness', 'double'), ('acousticness', 'double'), ('instrumentalness', 'double'), ('liveness', 'double'), ('valence', 'double'), ('tempo', 'double'), ('time_signature', 'int'), ('track_genre', 'string')]\n",
      "[('track_id', 'string'), ('artists', 'string'), ('album_name', 'string'), ('track_name', 'string'), ('popularity', 'int'), ('duration_ms', 'int'), ('explicit', 'boolean'), ('danceability', 'double'), ('energy', 'double'), ('key', 'int'), ('loudness', 'double'), ('mode', 'int'), ('speechiness', 'double'), ('acousticness', 'double'), ('instrumentalness', 'double'), ('liveness', 'double'), ('valence', 'double'), ('tempo', 'double'), ('time_signature', 'int'), ('track_genre', 'string'), ('explicit_int', 'int')]\n"
     ]
    }
   ],
   "source": [
    "#Casting explicit to (0/1) (more usable) (boolean columns still there)\n",
    "print(df.dtypes)\n",
    "if \"explicit\" in df.columns and dict(df.dtypes)[\"explicit\"] == \"boolean\":\n",
    "    df = df.withColumn(\"explicit_int\", F.col(\"explicit\").cast(\"int\"))\n",
    "print(df.dtypes)\n",
    "    "
   ]
  },
  {
   "cell_type": "code",
   "execution_count": 13,
   "id": "37532a96-cbf8-4923-af6c-e3b82214c248",
   "metadata": {},
   "outputs": [
    {
     "name": "stdout",
     "output_type": "stream",
     "text": [
      "+--------+------------+\n",
      "|explicit|explicit_int|\n",
      "+--------+------------+\n",
      "|   false|           0|\n",
      "|   false|           0|\n",
      "|   false|           0|\n",
      "|   false|           0|\n",
      "|   false|           0|\n",
      "+--------+------------+\n",
      "\n"
     ]
    }
   ],
   "source": [
    "ex = df.select([\"explicit\", \"explicit_int\"]).limit(5)\n",
    "ex.show()"
   ]
  },
  {
   "cell_type": "code",
   "execution_count": 14,
   "id": "1a41f296-ef01-4512-b69d-75274946d088",
   "metadata": {},
   "outputs": [],
   "source": [
    "#Range filters\n",
    "conds = []\n",
    "def add(c, expr):\n",
    "    if c in df.columns: conds.append(expr)\n",
    "\n",
    "add(\"danceability\", F.col(\"danceability\").between(0,1))\n",
    "add(\"energy\",       F.col(\"energy\").between(0,1))\n",
    "add(\"valence\",      F.col(\"valence\").between(0,1))\n",
    "add(\"acousticness\", F.col(\"acousticness\").between(0,1))\n",
    "add(\"instrumentalness\", F.col(\"instrumentalness\").between(0,1))\n",
    "add(\"liveness\",     F.col(\"liveness\").between(0,1))\n",
    "add(\"speechiness\",  F.col(\"speechiness\").between(0,1))\n",
    "add(\"loudness\",     F.col(\"loudness\").between(-60, 5))\n",
    "add(\"tempo\",        F.col(\"tempo\").between(30, 260))\n",
    "add(\"duration_ms\",  F.col(\"duration_ms\").between(30000, 600000)) #30s - 10min\n",
    "add(\"popularity\",   F.col(\"popularity\").between(0, 100))\n",
    "add(\"key\",          F.col(\"key\").between(0, 11))\n",
    "add(\"mode\",         F.col(\"mode\").isin(0,1))\n",
    "add(\"time_signature\", F.col(\"time_signature\").between(1, 12))\n",
    "\n",
    "clean = df\n",
    "for c in conds:\n",
    "    clean = clean.filter(c)"
   ]
  },
  {
   "cell_type": "markdown",
   "id": "9df2ef4b-0c10-4ec4-91c3-f2afda668dcb",
   "metadata": {},
   "source": [
    "Let's check again the summary"
   ]
  },
  {
   "cell_type": "code",
   "execution_count": 15,
   "id": "6b35ee17-4fb1-4b8a-abca-9f43b3f8f933",
   "metadata": {},
   "outputs": [
    {
     "name": "stdout",
     "output_type": "stream",
     "text": [
      "+-------+-----------------+------------------+-------------------+-------------------+\n",
      "|summary|popularity       |duration_ms       |danceability       |energy             |\n",
      "+-------+-----------------+------------------+-------------------+-------------------+\n",
      "|count  |113221           |113221            |113221             |113221             |\n",
      "|mean   |33.28348981196068|224380.62709214722|0.5683106817639713 |0.6427303792582697 |\n",
      "|stddev |22.33003832156068|79883.31406310928 |0.17180716358961456|0.25045856932708677|\n",
      "|min    |0                |30080             |0.0513             |2.02E-5            |\n",
      "|25%    |17               |174002            |0.457              |0.473              |\n",
      "|50%    |35               |212596            |0.581              |0.686              |\n",
      "|75%    |50               |260532            |0.695              |0.854              |\n",
      "|max    |100              |599999            |0.985              |1.0                |\n",
      "+-------+-----------------+------------------+-------------------+-------------------+\n",
      "\n",
      "+-------+------------------+-----------------+------------------+-------------------+\n",
      "|summary|key               |loudness         |mode              |speechiness        |\n",
      "+-------+------------------+-----------------+------------------+-------------------+\n",
      "|count  |113221            |113221           |113221            |113221             |\n",
      "|mean   |5.311426325504986 |-8.21586043225206|0.6375584034763869|0.08463979208804005|\n",
      "|stddev |3.5599554853163475|4.974412125465792|0.4807075270835072|0.10519985386522744|\n",
      "|min    |0                 |-46.591          |0                 |0.0221             |\n",
      "|25%    |2                 |-9.969           |0                 |0.0359             |\n",
      "|50%    |5                 |-6.98            |1                 |0.0489             |\n",
      "|75%    |8                 |-4.993           |1                 |0.0847             |\n",
      "|max    |11                |4.532            |1                 |0.965              |\n",
      "+-------+------------------+-----------------+------------------+-------------------+\n",
      "\n",
      "+-------+------------------+-------------------+------------------+------------------+------------------+-------------------+\n",
      "|summary|acousticness      |instrumentalness   |liveness          |valence           |tempo             |time_signature     |\n",
      "+-------+------------------+-------------------+------------------+------------------+------------------+-------------------+\n",
      "|count  |113221            |113221             |113221            |113221            |113221            |113221             |\n",
      "|mean   |0.3140685455435791|0.15380614404412446|0.2129167416821959|0.4756689959548215|122.34319350650784|3.91022866782664   |\n",
      "|stddev |0.3319490134400794|0.3076034816590266 |0.1895267800903112|0.2584890430217778|29.6649831752745  |0.40557373725207135|\n",
      "|min    |0.0               |0.0                |0.00925           |0.0               |30.2              |1                  |\n",
      "|25%    |0.0169            |0.0                |0.098             |0.262             |99.431            |4                  |\n",
      "|50%    |0.168             |3.97E-5            |0.132             |0.465             |122.026           |4                  |\n",
      "|75%    |0.596             |0.0452             |0.272             |0.684             |140.087           |4                  |\n",
      "|max    |0.996             |1.0                |1.0               |0.995             |243.372           |5                  |\n",
      "+-------+------------------+-------------------+------------------+------------------+------------------+-------------------+\n",
      "\n"
     ]
    }
   ],
   "source": [
    "clean.select(*[c for c in [\"popularity\",\"duration_ms\",\"danceability\",\"energy\"] if c in num_cols]) \\\n",
    "  .summary(\"count\",\"mean\",\"stddev\",\"min\",\"25%\",\"50%\",\"75%\",\"max\").show(truncate=False)\n",
    "\n",
    "clean.select(*[c for c in [\"key\",\"loudness\",\"mode\",\"speechiness\"] if c in num_cols]) \\\n",
    "  .summary(\"count\",\"mean\",\"stddev\",\"min\",\"25%\",\"50%\",\"75%\",\"max\").show(truncate=False)\n",
    "\n",
    "clean.select(*[c for c in [\"acousticness\",\"instrumentalness\",\"liveness\",\"valence\", \"tempo\", \"time_signature\"] if c in num_cols]) \\\n",
    "  .summary(\"count\",\"mean\",\"stddev\",\"min\",\"25%\",\"50%\",\"75%\",\"max\").show(truncate=False)"
   ]
  },
  {
   "cell_type": "code",
   "execution_count": 16,
   "id": "e7cd7296-870a-4d26-a0cb-006464f3fd82",
   "metadata": {},
   "outputs": [
    {
     "name": "stdout",
     "output_type": "stream",
     "text": [
      "+-------+----------+----------+-----------+\n",
      "|artists|album_name|track_name|track_genre|\n",
      "+-------+----------+----------+-----------+\n",
      "|      0|         0|         0|          0|\n",
      "+-------+----------+----------+-----------+\n",
      "\n",
      "+----------+-----------+------------+------+\n",
      "|popularity|duration_ms|danceability|energy|\n",
      "+----------+-----------+------------+------+\n",
      "|         0|          0|           0|     0|\n",
      "+----------+-----------+------------+------+\n",
      "\n",
      "+---+--------+----+-----------+\n",
      "|key|loudness|mode|speechiness|\n",
      "+---+--------+----+-----------+\n",
      "|  0|       0|   0|          0|\n",
      "+---+--------+----+-----------+\n",
      "\n",
      "+------------+----------------+--------+-------+-----+--------------+\n",
      "|acousticness|instrumentalness|liveness|valence|tempo|time_signature|\n",
      "+------------+----------------+--------+-------+-----+--------------+\n",
      "|           0|               0|       0|      0|    0|             0|\n",
      "+------------+----------------+--------+-------+-----+--------------+\n",
      "\n"
     ]
    }
   ],
   "source": [
    "clean_missing=clean.select(\n",
    "    *[ F.count(F.when(\n",
    "        (F.col(c).isNull() | (F.trim(F.col(c)) == \"\")) if t==\"string\"\n",
    "        else (F.col(c).isNull() | F.isnan(c)) if t in (\"double\",\"float\")\n",
    "        else F.col(c).isNull()\n",
    "    , 1)).alias(c) for c,t in clean.dtypes ]\n",
    ")\n",
    "\n",
    "c1 = clean_missing.select(*([\"artists\", \"album_name\", \"track_name\",\"track_genre\"]))\n",
    "c2 = clean_missing.select(*([\"popularity\",\"duration_ms\",\"danceability\",\"energy\"]))\n",
    "c3 = clean_missing.select(*([\"key\",\"loudness\",\"mode\",\"speechiness\"]))\n",
    "c4 = clean_missing.select(*([\"acousticness\",\"instrumentalness\",\"liveness\",\"valence\", \"tempo\", \"time_signature\"]))\n",
    "\n",
    "c1.show()\n",
    "c2.show()\n",
    "c3.show()\n",
    "c4.show()"
   ]
  },
  {
   "cell_type": "markdown",
   "id": "bcfb3e7a-5a0b-4c1b-9994-462f2b2bd0e7",
   "metadata": {},
   "source": [
    "No null values! \n",
    "Dataset is clean\n",
    "I will now check highly correlated features "
   ]
  },
  {
   "cell_type": "code",
   "execution_count": 17,
   "id": "547b2609-cf70-4009-be83-3b8a64d0d317",
   "metadata": {},
   "outputs": [
    {
     "name": "stdout",
     "output_type": "stream",
     "text": [
      "+----------------+----------------+--------------------+\n",
      "|f1              |f2              |pearson_r           |\n",
      "+----------------+----------------+--------------------+\n",
      "|energy          |loudness        |0.761805614335919   |\n",
      "|energy          |acousticness    |-0.7365100740062134 |\n",
      "|loudness        |acousticness    |-0.5918298718748708 |\n",
      "|danceability    |valence         |0.47147701999399744 |\n",
      "|loudness        |instrumentalness|-0.42981385902141495|\n",
      "|instrumentalness|valence         |-0.3193113416812313 |\n",
      "|speechiness     |explicit_int    |0.306978232020246   |\n",
      "|loudness        |valence         |0.27261413433040516 |\n",
      "|energy          |valence         |0.2533012125608733  |\n",
      "|danceability    |loudness        |0.24691673744916787 |\n",
      "|energy          |tempo           |0.23901142467640327 |\n",
      "|acousticness    |tempo           |-0.2068352579243168 |\n",
      "|speechiness     |liveness        |0.20514763194825927 |\n",
      "|loudness        |tempo           |0.19963588097863136 |\n",
      "|energy          |liveness        |0.19052622284601628 |\n",
      "|duration_ms     |valence         |-0.183218066635908  |\n",
      "|acousticness    |time_signature  |-0.18013500165961488|\n",
      "|danceability    |instrumentalness|-0.17763858171574862|\n",
      "|danceability    |time_signature  |0.177216188948235   |\n",
      "|energy          |instrumentalness|-0.17654387565731955|\n",
      "+----------------+----------------+--------------------+\n",
      "only showing top 20 rows\n",
      "\n"
     ]
    }
   ],
   "source": [
    "num_types = {\"double\",\"float\",\"int\",\"integer\",\"bigint\",\"long\",\"short\"}\n",
    "num_cols  = [c for c,t in clean.dtypes if t.lower() in num_types]\n",
    "\n",
    "pairs = []\n",
    "for i,c1 in enumerate(num_cols):\n",
    "    for c2 in num_cols[i+1:]:\n",
    "        rho = clean.stat.corr(c1, c2)\n",
    "        pairs.append((c1, c2, float(rho) if rho is not None else None))\n",
    "spark.createDataFrame(pairs, [\"f1\",\"f2\",\"pearson_r\"]).orderBy(F.abs(F.col(\"pearson_r\")).desc_nulls_last()).show(20, truncate=False)"
   ]
  },
  {
   "cell_type": "code",
   "execution_count": 21,
   "id": "81e871e7-6170-4a3c-b31a-6d3d2e01008a",
   "metadata": {},
   "outputs": [
    {
     "name": "stdout",
     "output_type": "stream",
     "text": [
      "<class 'pandas.core.frame.DataFrame'>\n",
      "Number of duplicate :  24203\n"
     ]
    }
   ],
   "source": [
    "# We try to see if some song are there several time\n",
    "pandas_clean = clean.toPandas()\n",
    "print(type(pandas_clean))\n",
    "nb_duplicate = pandas_clean.duplicated(subset=\"track_id\", keep = \"first\").sum()\n",
    "print(\"Number of duplicate : \", nb_duplicate)"
   ]
  },
  {
   "cell_type": "code",
   "execution_count": 27,
   "id": "41e3855f-23c3-4668-b5c2-6091f1930e5b",
   "metadata": {},
   "outputs": [],
   "source": [
    "# Since we found some duplicate, we drop them\n",
    "clean = clean.dropDuplicates([\"track_id\"])"
   ]
  },
  {
   "cell_type": "code",
   "execution_count": 30,
   "id": "1b74e07f-57bf-42bf-9bac-ed9427ed50da",
   "metadata": {},
   "outputs": [
    {
     "name": "stdout",
     "output_type": "stream",
     "text": [
      "89018\n"
     ]
    }
   ],
   "source": [
    "clean.write.mode(\"overwrite\").option(\"header\", \"true\").csv(\"hdfs://namenode:9000/spotify/clean_data\")"
   ]
  },
  {
   "cell_type": "code",
   "execution_count": null,
   "id": "d605e57e-3da9-442a-88f0-192193db379a",
   "metadata": {},
   "outputs": [],
   "source": []
  }
 ],
 "metadata": {
  "kernelspec": {
   "display_name": "Python 3 (ipykernel)",
   "language": "python",
   "name": "python3"
  },
  "language_info": {
   "codemirror_mode": {
    "name": "ipython",
    "version": 3
   },
   "file_extension": ".py",
   "mimetype": "text/x-python",
   "name": "python",
   "nbconvert_exporter": "python",
   "pygments_lexer": "ipython3",
   "version": "3.11.6"
  }
 },
 "nbformat": 4,
 "nbformat_minor": 5
}
